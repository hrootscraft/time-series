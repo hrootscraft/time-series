{
  "cells": [
    {
      "cell_type": "markdown",
      "metadata": {
        "id": "view-in-github",
        "colab_type": "text"
      },
      "source": [
        "<a href=\"https://colab.research.google.com/github/rbb-99/time-series/blob/main/StockPricePredLSTM%26GRU.ipynb\" target=\"_parent\"><img src=\"https://colab.research.google.com/assets/colab-badge.svg\" alt=\"Open In Colab\"/></a>"
      ]
    },
    {
      "cell_type": "markdown",
      "source": [
        "## Setup dependencies"
      ],
      "metadata": {
        "id": "WNXXaO8xt_TO"
      }
    },
    {
      "cell_type": "code",
      "source": [
        "!mkdir ~/.kaggle"
      ],
      "metadata": {
        "id": "XhT-ycmkuEp4"
      },
      "execution_count": 1,
      "outputs": []
    },
    {
      "cell_type": "code",
      "source": [
        "!cp kaggle.json ~/.kaggle/kaggle.json"
      ],
      "metadata": {
        "id": "GK76Y-jDuIKS"
      },
      "execution_count": 2,
      "outputs": []
    },
    {
      "cell_type": "code",
      "source": [
        "!chmod 600 ~/.kaggle/kaggle.json"
      ],
      "metadata": {
        "id": "Va9eYRRYuvJO"
      },
      "execution_count": 3,
      "outputs": []
    },
    {
      "cell_type": "code",
      "source": [
        "!kaggle datasets download -d szrlee/stock-time-series-20050101-to-20171231"
      ],
      "metadata": {
        "colab": {
          "base_uri": "https://localhost:8080/"
        },
        "id": "Xo6KmCQxuvS5",
        "outputId": "a0249244-283c-445d-be95-95afd6882501"
      },
      "execution_count": 4,
      "outputs": [
        {
          "output_type": "stream",
          "name": "stdout",
          "text": [
            "Downloading stock-time-series-20050101-to-20171231.zip to /content\n",
            "\r  0% 0.00/3.03M [00:00<?, ?B/s]\n",
            "\r100% 3.03M/3.03M [00:00<00:00, 186MB/s]\n"
          ]
        }
      ]
    },
    {
      "cell_type": "code",
      "source": [
        "!unzip stock-time-series-20050101-to-20171231.zip -d stocksdata"
      ],
      "metadata": {
        "colab": {
          "base_uri": "https://localhost:8080/"
        },
        "id": "jwyQnT6FuvcN",
        "outputId": "0ea4d4a4-1ad6-4632-ec04-da18875cadfd"
      },
      "execution_count": 5,
      "outputs": [
        {
          "output_type": "stream",
          "name": "stdout",
          "text": [
            "Archive:  stock-time-series-20050101-to-20171231.zip\n",
            "  inflating: stocksdata/AABA_2006-01-01_to_2018-01-01.csv  \n",
            "  inflating: stocksdata/AAPL_2006-01-01_to_2018-01-01.csv  \n",
            "  inflating: stocksdata/AMZN_2006-01-01_to_2018-01-01.csv  \n",
            "  inflating: stocksdata/AXP_2006-01-01_to_2018-01-01.csv  \n",
            "  inflating: stocksdata/BA_2006-01-01_to_2018-01-01.csv  \n",
            "  inflating: stocksdata/CAT_2006-01-01_to_2018-01-01.csv  \n",
            "  inflating: stocksdata/CSCO_2006-01-01_to_2018-01-01.csv  \n",
            "  inflating: stocksdata/CVX_2006-01-01_to_2018-01-01.csv  \n",
            "  inflating: stocksdata/DIS_2006-01-01_to_2018-01-01.csv  \n",
            "  inflating: stocksdata/GE_2006-01-01_to_2018-01-01.csv  \n",
            "  inflating: stocksdata/GOOGL_2006-01-01_to_2018-01-01.csv  \n",
            "  inflating: stocksdata/GS_2006-01-01_to_2018-01-01.csv  \n",
            "  inflating: stocksdata/HD_2006-01-01_to_2018-01-01.csv  \n",
            "  inflating: stocksdata/IBM_2006-01-01_to_2018-01-01.csv  \n",
            "  inflating: stocksdata/INTC_2006-01-01_to_2018-01-01.csv  \n",
            "  inflating: stocksdata/JNJ_2006-01-01_to_2018-01-01.csv  \n",
            "  inflating: stocksdata/JPM_2006-01-01_to_2018-01-01.csv  \n",
            "  inflating: stocksdata/KO_2006-01-01_to_2018-01-01.csv  \n",
            "  inflating: stocksdata/MCD_2006-01-01_to_2018-01-01.csv  \n",
            "  inflating: stocksdata/MMM_2006-01-01_to_2018-01-01.csv  \n",
            "  inflating: stocksdata/MRK_2006-01-01_to_2018-01-01.csv  \n",
            "  inflating: stocksdata/MSFT_2006-01-01_to_2018-01-01.csv  \n",
            "  inflating: stocksdata/NKE_2006-01-01_to_2018-01-01.csv  \n",
            "  inflating: stocksdata/PFE_2006-01-01_to_2018-01-01.csv  \n",
            "  inflating: stocksdata/PG_2006-01-01_to_2018-01-01.csv  \n",
            "  inflating: stocksdata/TRV_2006-01-01_to_2018-01-01.csv  \n",
            "  inflating: stocksdata/UNH_2006-01-01_to_2018-01-01.csv  \n",
            "  inflating: stocksdata/UTX_2006-01-01_to_2018-01-01.csv  \n",
            "  inflating: stocksdata/VZ_2006-01-01_to_2018-01-01.csv  \n",
            "  inflating: stocksdata/WMT_2006-01-01_to_2018-01-01.csv  \n",
            "  inflating: stocksdata/XOM_2006-01-01_to_2018-01-01.csv  \n",
            "  inflating: stocksdata/all_stocks_2006-01-01_to_2018-01-01.csv  \n",
            "  inflating: stocksdata/all_stocks_2017-01-01_to_2018-01-01.csv  \n"
          ]
        }
      ]
    },
    {
      "metadata": {
        "trusted": true,
        "collapsed": true,
        "_uuid": "2f82cc24efc6283e5a98cadb78fc1a465e44c143",
        "id": "qZmoS8Ixqoq8"
      },
      "cell_type": "markdown",
      "source": [
        "We're using LSTMs for predicting the price of stocks of IBM for the year 2017"
      ]
    },
    {
      "cell_type": "markdown",
      "source": [
        "## Imports and utilities"
      ],
      "metadata": {
        "id": "2yRzZjBKxZ0w"
      }
    },
    {
      "metadata": {
        "trusted": true,
        "_uuid": "da0236e4b36ce514c1fec3fd72f236d1fa259131",
        "collapsed": true,
        "id": "XulnF_-rqoq_"
      },
      "cell_type": "code",
      "source": [
        "# Importing the libraries\n",
        "import numpy as np\n",
        "import matplotlib.pyplot as plt\n",
        "plt.style.use('fivethirtyeight')\n",
        "import pandas as pd\n",
        "from sklearn.preprocessing import MinMaxScaler\n",
        "from keras.models import Sequential\n",
        "from keras.layers import Dense, LSTM, Dropout, GRU, Bidirectional\n",
        "from keras.optimizers import SGD\n",
        "import math\n",
        "from sklearn.metrics import mean_squared_error"
      ],
      "execution_count": 6,
      "outputs": []
    },
    {
      "metadata": {
        "trusted": true,
        "_uuid": "b288a8e2caf6196daec9cd2bc4ca78fe50345845",
        "id": "naSOf7qxqorC"
      },
      "cell_type": "code",
      "source": [
        "# Some functions to help out with\n",
        "def plot_predictions(test,predicted):\n",
        "    plt.plot(test, color='red',label='Real IBM Stock Price')\n",
        "    plt.plot(predicted, color='blue',label='Predicted IBM Stock Price')\n",
        "    plt.title('IBM Stock Price Prediction')\n",
        "    plt.xlabel('Time')\n",
        "    plt.ylabel('IBM Stock Price')\n",
        "    plt.legend()\n",
        "    plt.show()\n",
        "\n",
        "def return_rmse(test,predicted):\n",
        "    rmse = math.sqrt(mean_squared_error(test, predicted))\n",
        "    print(\"The root mean squared error is {}.\".format(rmse))"
      ],
      "execution_count": 8,
      "outputs": []
    },
    {
      "cell_type": "markdown",
      "source": [
        "## EDA"
      ],
      "metadata": {
        "id": "JWNxXSsKxtv6"
      }
    },
    {
      "metadata": {
        "trusted": true,
        "_uuid": "4cf10cf27420eb383b93b15c0895139ea96c0ed3",
        "collapsed": true,
        "colab": {
          "base_uri": "https://localhost:8080/",
          "height": 237
        },
        "id": "Uf9eot01qorC",
        "outputId": "4fab73bc-77a5-4dca-ecb0-f1966317f16b"
      },
      "cell_type": "code",
      "source": [
        "# First, we get the data\n",
        "dataset = pd.read_csv('./stocksdata/IBM_2006-01-01_to_2018-01-01.csv', index_col='Date', parse_dates=['Date'])\n",
        "dataset.head()"
      ],
      "execution_count": 9,
      "outputs": [
        {
          "output_type": "execute_result",
          "data": {
            "text/plain": [
              "             Open   High    Low  Close    Volume Name\n",
              "Date                                                 \n",
              "2006-01-03  82.45  82.55  80.81  82.06  11715200  IBM\n",
              "2006-01-04  82.20  82.50  81.33  81.95   9840600  IBM\n",
              "2006-01-05  81.40  82.90  81.00  82.50   7213500  IBM\n",
              "2006-01-06  83.95  85.03  83.41  84.95   8197400  IBM\n",
              "2006-01-09  84.10  84.25  83.38  83.73   6858200  IBM"
            ],
            "text/html": [
              "\n",
              "  <div id=\"df-b24b07d3-ba26-4397-a3a0-8b0328a18d8d\">\n",
              "    <div class=\"colab-df-container\">\n",
              "      <div>\n",
              "<style scoped>\n",
              "    .dataframe tbody tr th:only-of-type {\n",
              "        vertical-align: middle;\n",
              "    }\n",
              "\n",
              "    .dataframe tbody tr th {\n",
              "        vertical-align: top;\n",
              "    }\n",
              "\n",
              "    .dataframe thead th {\n",
              "        text-align: right;\n",
              "    }\n",
              "</style>\n",
              "<table border=\"1\" class=\"dataframe\">\n",
              "  <thead>\n",
              "    <tr style=\"text-align: right;\">\n",
              "      <th></th>\n",
              "      <th>Open</th>\n",
              "      <th>High</th>\n",
              "      <th>Low</th>\n",
              "      <th>Close</th>\n",
              "      <th>Volume</th>\n",
              "      <th>Name</th>\n",
              "    </tr>\n",
              "    <tr>\n",
              "      <th>Date</th>\n",
              "      <th></th>\n",
              "      <th></th>\n",
              "      <th></th>\n",
              "      <th></th>\n",
              "      <th></th>\n",
              "      <th></th>\n",
              "    </tr>\n",
              "  </thead>\n",
              "  <tbody>\n",
              "    <tr>\n",
              "      <th>2006-01-03</th>\n",
              "      <td>82.45</td>\n",
              "      <td>82.55</td>\n",
              "      <td>80.81</td>\n",
              "      <td>82.06</td>\n",
              "      <td>11715200</td>\n",
              "      <td>IBM</td>\n",
              "    </tr>\n",
              "    <tr>\n",
              "      <th>2006-01-04</th>\n",
              "      <td>82.20</td>\n",
              "      <td>82.50</td>\n",
              "      <td>81.33</td>\n",
              "      <td>81.95</td>\n",
              "      <td>9840600</td>\n",
              "      <td>IBM</td>\n",
              "    </tr>\n",
              "    <tr>\n",
              "      <th>2006-01-05</th>\n",
              "      <td>81.40</td>\n",
              "      <td>82.90</td>\n",
              "      <td>81.00</td>\n",
              "      <td>82.50</td>\n",
              "      <td>7213500</td>\n",
              "      <td>IBM</td>\n",
              "    </tr>\n",
              "    <tr>\n",
              "      <th>2006-01-06</th>\n",
              "      <td>83.95</td>\n",
              "      <td>85.03</td>\n",
              "      <td>83.41</td>\n",
              "      <td>84.95</td>\n",
              "      <td>8197400</td>\n",
              "      <td>IBM</td>\n",
              "    </tr>\n",
              "    <tr>\n",
              "      <th>2006-01-09</th>\n",
              "      <td>84.10</td>\n",
              "      <td>84.25</td>\n",
              "      <td>83.38</td>\n",
              "      <td>83.73</td>\n",
              "      <td>6858200</td>\n",
              "      <td>IBM</td>\n",
              "    </tr>\n",
              "  </tbody>\n",
              "</table>\n",
              "</div>\n",
              "      <button class=\"colab-df-convert\" onclick=\"convertToInteractive('df-b24b07d3-ba26-4397-a3a0-8b0328a18d8d')\"\n",
              "              title=\"Convert this dataframe to an interactive table.\"\n",
              "              style=\"display:none;\">\n",
              "        \n",
              "  <svg xmlns=\"http://www.w3.org/2000/svg\" height=\"24px\"viewBox=\"0 0 24 24\"\n",
              "       width=\"24px\">\n",
              "    <path d=\"M0 0h24v24H0V0z\" fill=\"none\"/>\n",
              "    <path d=\"M18.56 5.44l.94 2.06.94-2.06 2.06-.94-2.06-.94-.94-2.06-.94 2.06-2.06.94zm-11 1L8.5 8.5l.94-2.06 2.06-.94-2.06-.94L8.5 2.5l-.94 2.06-2.06.94zm10 10l.94 2.06.94-2.06 2.06-.94-2.06-.94-.94-2.06-.94 2.06-2.06.94z\"/><path d=\"M17.41 7.96l-1.37-1.37c-.4-.4-.92-.59-1.43-.59-.52 0-1.04.2-1.43.59L10.3 9.45l-7.72 7.72c-.78.78-.78 2.05 0 2.83L4 21.41c.39.39.9.59 1.41.59.51 0 1.02-.2 1.41-.59l7.78-7.78 2.81-2.81c.8-.78.8-2.07 0-2.86zM5.41 20L4 18.59l7.72-7.72 1.47 1.35L5.41 20z\"/>\n",
              "  </svg>\n",
              "      </button>\n",
              "      \n",
              "  <style>\n",
              "    .colab-df-container {\n",
              "      display:flex;\n",
              "      flex-wrap:wrap;\n",
              "      gap: 12px;\n",
              "    }\n",
              "\n",
              "    .colab-df-convert {\n",
              "      background-color: #E8F0FE;\n",
              "      border: none;\n",
              "      border-radius: 50%;\n",
              "      cursor: pointer;\n",
              "      display: none;\n",
              "      fill: #1967D2;\n",
              "      height: 32px;\n",
              "      padding: 0 0 0 0;\n",
              "      width: 32px;\n",
              "    }\n",
              "\n",
              "    .colab-df-convert:hover {\n",
              "      background-color: #E2EBFA;\n",
              "      box-shadow: 0px 1px 2px rgba(60, 64, 67, 0.3), 0px 1px 3px 1px rgba(60, 64, 67, 0.15);\n",
              "      fill: #174EA6;\n",
              "    }\n",
              "\n",
              "    [theme=dark] .colab-df-convert {\n",
              "      background-color: #3B4455;\n",
              "      fill: #D2E3FC;\n",
              "    }\n",
              "\n",
              "    [theme=dark] .colab-df-convert:hover {\n",
              "      background-color: #434B5C;\n",
              "      box-shadow: 0px 1px 3px 1px rgba(0, 0, 0, 0.15);\n",
              "      filter: drop-shadow(0px 1px 2px rgba(0, 0, 0, 0.3));\n",
              "      fill: #FFFFFF;\n",
              "    }\n",
              "  </style>\n",
              "\n",
              "      <script>\n",
              "        const buttonEl =\n",
              "          document.querySelector('#df-b24b07d3-ba26-4397-a3a0-8b0328a18d8d button.colab-df-convert');\n",
              "        buttonEl.style.display =\n",
              "          google.colab.kernel.accessAllowed ? 'block' : 'none';\n",
              "\n",
              "        async function convertToInteractive(key) {\n",
              "          const element = document.querySelector('#df-b24b07d3-ba26-4397-a3a0-8b0328a18d8d');\n",
              "          const dataTable =\n",
              "            await google.colab.kernel.invokeFunction('convertToInteractive',\n",
              "                                                     [key], {});\n",
              "          if (!dataTable) return;\n",
              "\n",
              "          const docLinkHtml = 'Like what you see? Visit the ' +\n",
              "            '<a target=\"_blank\" href=https://colab.research.google.com/notebooks/data_table.ipynb>data table notebook</a>'\n",
              "            + ' to learn more about interactive tables.';\n",
              "          element.innerHTML = '';\n",
              "          dataTable['output_type'] = 'display_data';\n",
              "          await google.colab.output.renderOutput(dataTable, element);\n",
              "          const docLink = document.createElement('div');\n",
              "          docLink.innerHTML = docLinkHtml;\n",
              "          element.appendChild(docLink);\n",
              "        }\n",
              "      </script>\n",
              "    </div>\n",
              "  </div>\n",
              "  "
            ]
          },
          "metadata": {},
          "execution_count": 9
        }
      ]
    },
    {
      "metadata": {
        "trusted": true,
        "_uuid": "fb4c9db6d8a5bcf20ffad41747cfa5b6215ba220",
        "collapsed": true,
        "id": "BwdsVMfuqorD"
      },
      "cell_type": "code",
      "source": [
        "# Checking for missing values\n",
        "training_set = dataset[:'2016'].iloc[:,1:2].values\n",
        "test_set = dataset['2017':].iloc[:,1:2].values"
      ],
      "execution_count": 10,
      "outputs": []
    },
    {
      "metadata": {
        "trusted": true,
        "_uuid": "bf5a9463d58e73852d2b70be9611e8cf1f4166fd",
        "collapsed": true,
        "colab": {
          "base_uri": "https://localhost:8080/",
          "height": 303
        },
        "id": "vGqa305KqorD",
        "outputId": "4c7563c8-0047-4817-f448-f672d6933003"
      },
      "cell_type": "code",
      "source": [
        "# We have chosen 'High' attribute for prices. Let's see what it looks like\n",
        "dataset[\"High\"][:'2016'].plot(figsize=(16,4),legend=True)\n",
        "dataset[\"High\"]['2017':].plot(figsize=(16,4),legend=True)\n",
        "plt.legend(['Training set (Before 2017)','Test set (2017 and beyond)'])\n",
        "plt.title('IBM stock price')\n",
        "plt.show()"
      ],
      "execution_count": 11,
      "outputs": [
        {
          "output_type": "display_data",
          "data": {
            "text/plain": [
              "<Figure size 1152x288 with 1 Axes>"
            ],
            "image/png": "[encoded data removed]"
          },
          "metadata": {}
        }
      ]
    },
    {
      "metadata": {
        "trusted": true,
        "_uuid": "bcc9c36165fc07d258bd5ea87874d2da17fa4a4d",
        "collapsed": true,
        "id": "gs0tFz2nqorD"
      },
      "cell_type": "code",
      "source": [
        "# Scaling the training set\n",
        "sc = MinMaxScaler(feature_range=(0,1))\n",
        "training_set_scaled = sc.fit_transform(training_set)"
      ],
      "execution_count": 12,
      "outputs": []
    },
    {
      "metadata": {
        "trusted": true,
        "_uuid": "fccfb866a2b4c702e0b2742f7c0289512d713d1b",
        "collapsed": true,
        "id": "eSPOJuPYqorD"
      },
      "cell_type": "code",
      "source": [
        "# Since LSTMs store long term memory state, we create a data structure with 60 timesteps and 1 output\n",
        "# So for each element of training set, we have 60 previous training set elements \n",
        "X_train = []\n",
        "y_train = []\n",
        "for i in range(60,2769):\n",
        "    X_train.append(training_set_scaled[i-60:i,0])\n",
        "    y_train.append(training_set_scaled[i,0])\n",
        "X_train, y_train = np.array(X_train), np.array(y_train)"
      ],
      "execution_count": 13,
      "outputs": []
    },
    {
      "metadata": {
        "trusted": true,
        "_uuid": "637f699d3c4bde4b783de56ed4dd70a1bf59760d",
        "collapsed": true,
        "id": "96xcBg_DqorE"
      },
      "cell_type": "code",
      "source": [
        "# Reshaping X_train for efficient modelling\n",
        "X_train = np.reshape(X_train, (X_train.shape[0],X_train.shape[1],1))"
      ],
      "execution_count": 14,
      "outputs": []
    },
    {
      "metadata": {
        "trusted": true,
        "_uuid": "df20eb7e8062dae0a3aff2182aa440faddd0017d",
        "collapsed": true,
        "colab": {
          "base_uri": "https://localhost:8080/"
        },
        "id": "54-78ri2qorG",
        "outputId": "874815e6-d285-44a2-947c-aea5e2bdbafe"
      },
      "cell_type": "code",
      "source": [
        "# The LSTM architecture\n",
        "regressor = Sequential()\n",
        "# First LSTM layer with Dropout regularisation\n",
        "regressor.add(LSTM(units=50, return_sequences=True, input_shape=(X_train.shape[1],1)))\n",
        "regressor.add(Dropout(0.2))\n",
        "# Second LSTM layer\n",
        "regressor.add(LSTM(units=50, return_sequences=True))\n",
        "regressor.add(Dropout(0.2))\n",
        "# Third LSTM layer\n",
        "regressor.add(LSTM(units=50, return_sequences=True))\n",
        "regressor.add(Dropout(0.2))\n",
        "# Fourth LSTM layer\n",
        "regressor.add(LSTM(units=50))\n",
        "regressor.add(Dropout(0.2))\n",
        "# The output layer\n",
        "regressor.add(Dense(units=1))\n",
        "\n",
        "# Compiling the RNN\n",
        "regressor.compile(optimizer='rmsprop',loss='mean_squared_error')\n",
        "# Fitting to the training set\n",
        "regressor.fit(X_train,y_train,epochs=50,batch_size=32)"
      ],
      "execution_count": 15,
      "outputs": [
        {
          "output_type": "stream",
          "name": "stdout",
          "text": [
            "Epoch 1/50\n",
            "85/85 [==============================] - 21s 144ms/step - loss: 0.0242\n",
            "Epoch 2/50\n",
            "85/85 [==============================] - 20s 235ms/step - loss: 0.0111\n",
            "Epoch 3/50\n",
            "85/85 [==============================] - 13s 157ms/step - loss: 0.0081\n",
            "Epoch 4/50\n",
            "85/85 [==============================] - 12s 144ms/step - loss: 0.0072\n",
            "Epoch 5/50\n",
            "85/85 [==============================] - 12s 144ms/step - loss: 0.0064\n",
            "Epoch 6/50\n",
            "85/85 [==============================] - 13s 149ms/step - loss: 0.0059\n",
            "Epoch 7/50\n",
            "85/85 [==============================] - 12s 145ms/step - loss: 0.0050\n",
            "Epoch 8/50\n",
            "85/85 [==============================] - 12s 144ms/step - loss: 0.0047\n",
            "Epoch 9/50\n",
            "85/85 [==============================] - 13s 150ms/step - loss: 0.0049\n",
            "Epoch 10/50\n",
            "85/85 [==============================] - 13s 153ms/step - loss: 0.0042\n",
            "Epoch 11/50\n",
            "85/85 [==============================] - 12s 145ms/step - loss: 0.0040\n",
            "Epoch 12/50\n",
            "85/85 [==============================] - 14s 162ms/step - loss: 0.0037\n",
            "Epoch 13/50\n",
            "85/85 [==============================] - 12s 145ms/step - loss: 0.0035\n",
            "Epoch 14/50\n",
            "85/85 [==============================] - 12s 146ms/step - loss: 0.0033\n",
            "Epoch 15/50\n",
            "85/85 [==============================] - 13s 151ms/step - loss: 0.0031\n",
            "Epoch 16/50\n",
            "85/85 [==============================] - 12s 146ms/step - loss: 0.0032\n",
            "Epoch 17/50\n",
            "85/85 [==============================] - 12s 146ms/step - loss: 0.0030\n",
            "Epoch 18/50\n",
            "85/85 [==============================] - 12s 147ms/step - loss: 0.0029\n",
            "Epoch 19/50\n",
            "85/85 [==============================] - 12s 147ms/step - loss: 0.0028\n",
            "Epoch 20/50\n",
            "85/85 [==============================] - 12s 147ms/step - loss: 0.0026\n",
            "Epoch 21/50\n",
            "85/85 [==============================] - 13s 148ms/step - loss: 0.0026\n",
            "Epoch 22/50\n",
            "85/85 [==============================] - 12s 146ms/step - loss: 0.0026\n",
            "Epoch 23/50\n",
            "85/85 [==============================] - 12s 146ms/step - loss: 0.0025\n",
            "Epoch 24/50\n",
            "85/85 [==============================] - 13s 149ms/step - loss: 0.0025\n",
            "Epoch 25/50\n",
            "85/85 [==============================] - 12s 147ms/step - loss: 0.0023\n",
            "Epoch 26/50\n",
            "85/85 [==============================] - 12s 143ms/step - loss: 0.0023\n",
            "Epoch 27/50\n",
            "85/85 [==============================] - 12s 143ms/step - loss: 0.0023\n",
            "Epoch 28/50\n",
            "85/85 [==============================] - 12s 142ms/step - loss: 0.0022\n",
            "Epoch 29/50\n",
            "85/85 [==============================] - 13s 151ms/step - loss: 0.0022\n",
            "Epoch 30/50\n",
            "85/85 [==============================] - 12s 146ms/step - loss: 0.0022\n",
            "Epoch 31/50\n",
            "85/85 [==============================] - 12s 143ms/step - loss: 0.0020\n",
            "Epoch 32/50\n",
            "85/85 [==============================] - 12s 147ms/step - loss: 0.0021\n",
            "Epoch 33/50\n",
            "85/85 [==============================] - 13s 150ms/step - loss: 0.0019\n",
            "Epoch 34/50\n",
            "85/85 [==============================] - 13s 150ms/step - loss: 0.0020\n",
            "Epoch 35/50\n",
            "85/85 [==============================] - 13s 148ms/step - loss: 0.0019\n",
            "Epoch 36/50\n",
            "85/85 [==============================] - 13s 151ms/step - loss: 0.0019\n",
            "Epoch 37/50\n",
            "85/85 [==============================] - 13s 151ms/step - loss: 0.0019\n",
            "Epoch 38/50\n",
            "85/85 [==============================] - 13s 152ms/step - loss: 0.0018\n",
            "Epoch 39/50\n",
            "85/85 [==============================] - 13s 153ms/step - loss: 0.0018\n",
            "Epoch 40/50\n",
            "85/85 [==============================] - 13s 152ms/step - loss: 0.0019\n",
            "Epoch 41/50\n",
            "85/85 [==============================] - 13s 151ms/step - loss: 0.0019\n",
            "Epoch 42/50\n",
            "85/85 [==============================] - 13s 152ms/step - loss: 0.0017\n",
            "Epoch 43/50\n",
            "85/85 [==============================] - 13s 157ms/step - loss: 0.0018\n",
            "Epoch 44/50\n",
            "85/85 [==============================] - 13s 153ms/step - loss: 0.0016\n",
            "Epoch 45/50\n",
            "85/85 [==============================] - 14s 160ms/step - loss: 0.0017\n",
            "Epoch 46/50\n",
            "85/85 [==============================] - 13s 157ms/step - loss: 0.0017\n",
            "Epoch 47/50\n",
            "85/85 [==============================] - 13s 155ms/step - loss: 0.0017\n",
            "Epoch 48/50\n",
            "85/85 [==============================] - 13s 158ms/step - loss: 0.0016\n",
            "Epoch 49/50\n",
            "85/85 [==============================] - 13s 157ms/step - loss: 0.0017\n",
            "Epoch 50/50\n",
            "85/85 [==============================] - 13s 153ms/step - loss: 0.0015\n"
          ]
        },
        {
          "output_type": "execute_result",
          "data": {
            "text/plain": [
              "<keras.callbacks.History at 0x7fa874f18c40>"
            ]
          },
          "metadata": {},
          "execution_count": 15
        }
      ]
    },
    {
      "metadata": {
        "trusted": true,
        "_uuid": "326fa85615622feb484cc4c848edeec6f7133913",
        "collapsed": true,
        "id": "Id0ewu8FqorG"
      },
      "cell_type": "code",
      "source": [
        "# Now to get the test set ready in a similar way as the training set.\n",
        "# The following has been done so first 60 entires of test set have 60 previous values which is impossible to get unless we take the whole \n",
        "# 'High' attribute data for processing\n",
        "dataset_total = pd.concat((dataset[\"High\"][:'2016'],dataset[\"High\"]['2017':]),axis=0)\n",
        "inputs = dataset_total[len(dataset_total)-len(test_set) - 60:].values\n",
        "inputs = inputs.reshape(-1,1)\n",
        "inputs  = sc.transform(inputs)"
      ],
      "execution_count": 16,
      "outputs": []
    },
    {
      "metadata": {
        "trusted": true,
        "collapsed": true,
        "_uuid": "435b8024814939ac4fbd372baa0cd8cfc78f80bc",
        "colab": {
          "base_uri": "https://localhost:8080/"
        },
        "id": "eszn5Qr1qorG",
        "outputId": "fab986a7-5860-43f2-fcfe-bb626baa59a4"
      },
      "cell_type": "code",
      "source": [
        "# Preparing X_test and predicting the prices\n",
        "X_test = []\n",
        "for i in range(60,311):\n",
        "    X_test.append(inputs[i-60:i,0])\n",
        "X_test = np.array(X_test)\n",
        "X_test = np.reshape(X_test, (X_test.shape[0],X_test.shape[1],1))\n",
        "predicted_stock_price = regressor.predict(X_test)\n",
        "predicted_stock_price = sc.inverse_transform(predicted_stock_price)"
      ],
      "execution_count": 17,
      "outputs": [
        {
          "output_type": "stream",
          "name": "stdout",
          "text": [
            "8/8 [==============================] - 2s 37ms/step\n"
          ]
        }
      ]
    },
    {
      "metadata": {
        "trusted": true,
        "scrolled": false,
        "_uuid": "b774a8e79e53eac89694cafef6b11aa99226b95f",
        "collapsed": true,
        "colab": {
          "base_uri": "https://localhost:8080/",
          "height": 325
        },
        "id": "RMvyinA0qorH",
        "outputId": "e074491f-1be6-4bbe-ecc4-71468efb3376"
      },
      "cell_type": "code",
      "source": [
        "# Visualizing the results for LSTM\n",
        "plot_predictions(test_set,predicted_stock_price)"
      ],
      "execution_count": 18,
      "outputs": [
        {
          "output_type": "display_data",
          "data": {
            "text/plain": [
              "<Figure size 432x288 with 1 Axes>"
            ],
            "image/png": "[encoded data removed]"
          },
          "metadata": {}
        }
      ]
    },
    {
      "metadata": {
        "trusted": true,
        "_uuid": "f6f6db0b6e1f17ac63c06ce49856873d98ba5f00",
        "collapsed": true,
        "colab": {
          "base_uri": "https://localhost:8080/"
        },
        "id": "seX8G_bsqorH",
        "outputId": "0c875d27-7861-461f-9f53-588b8219763e"
      },
      "cell_type": "code",
      "source": [
        "# Evaluating our model\n",
        "return_rmse(test_set,predicted_stock_price)"
      ],
      "execution_count": 19,
      "outputs": [
        {
          "output_type": "stream",
          "name": "stdout",
          "text": [
            "The root mean squared error is 3.1950310495139957.\n"
          ]
        }
      ]
    },
    {
      "metadata": {
        "trusted": true,
        "_uuid": "a4cf704ab3cd091f63b7b9a1b9224a49f0913171",
        "id": "ocuD5yloqorH"
      },
      "cell_type": "markdown",
      "source": [
        "## Gated Recurrent Units\n",
        "In simple words, the GRU unit does not have to use a memory unit to control the flow of information like the LSTM unit. It can directly makes use of the all hidden states without any control. GRUs have fewer parameters and thus may train a bit faster or need less data to generalize. But, with large data, the LSTMs with higher expressiveness may lead to better results.\n",
        "\n",
        "They are almost similar to LSTMs except that they have two gates: reset gate and update gate. Reset gate determines how to combine new input to previous memory and update gate determines how much of the previous state to keep. Update gate in GRU is what input gate and forget gate were in LSTM. We don't have the second non linearity in GRU before calculating the outpu, .neither they have the output gate."
      ]
    },
    {
      "metadata": {
        "trusted": true,
        "collapsed": true,
        "_uuid": "e9b616c5112d707d16cc4b277007e286cffd58f6",
        "colab": {
          "base_uri": "https://localhost:8080/"
        },
        "id": "RFZV-4MaqorI",
        "outputId": "029f2d19-72d8-44bd-be61-a66244b06949"
      },
      "cell_type": "code",
      "source": [
        "# The GRU architecture\n",
        "regressorGRU = Sequential()\n",
        "# First GRU layer with Dropout regularisation\n",
        "regressorGRU.add(GRU(units=50, return_sequences=True, input_shape=(X_train.shape[1],1), activation='tanh'))\n",
        "regressorGRU.add(Dropout(0.2))\n",
        "# Second GRU layer\n",
        "regressorGRU.add(GRU(units=50, return_sequences=True, input_shape=(X_train.shape[1],1), activation='tanh'))\n",
        "regressorGRU.add(Dropout(0.2))\n",
        "# Third GRU layer\n",
        "regressorGRU.add(GRU(units=50, return_sequences=True, input_shape=(X_train.shape[1],1), activation='tanh'))\n",
        "regressorGRU.add(Dropout(0.2))\n",
        "# Fourth GRU layer\n",
        "regressorGRU.add(GRU(units=50, activation='tanh'))\n",
        "regressorGRU.add(Dropout(0.2))\n",
        "# The output layer\n",
        "regressorGRU.add(Dense(units=1))\n",
        "# Compiling the RNN\n",
        "regressorGRU.compile(optimizer=SGD(lr=0.01, decay=1e-7, momentum=0.9, nesterov=False),loss='mean_squared_error')\n",
        "# Fitting to the training set\n",
        "regressorGRU.fit(X_train,y_train,epochs=50,batch_size=150)"
      ],
      "execution_count": 20,
      "outputs": [
        {
          "output_type": "stream",
          "name": "stdout",
          "text": [
            "Epoch 1/50\n"
          ]
        },
        {
          "output_type": "stream",
          "name": "stderr",
          "text": [
            "/usr/local/lib/python3.9/dist-packages/keras/optimizers/optimizer_v2/gradient_descent.py:114: UserWarning: The `lr` argument is deprecated, use `learning_rate` instead.\n",
            "  super().__init__(name, **kwargs)\n"
          ]
        },
        {
          "output_type": "stream",
          "name": "stdout",
          "text": [
            "19/19 [==============================] - 15s 342ms/step - loss: 0.1198\n",
            "Epoch 2/50\n",
            "19/19 [==============================] - 6s 313ms/step - loss: 0.0375\n",
            "Epoch 3/50\n",
            "19/19 [==============================] - 7s 355ms/step - loss: 0.0091\n",
            "Epoch 4/50\n",
            "19/19 [==============================] - 6s 311ms/step - loss: 0.0048\n",
            "Epoch 5/50\n",
            "19/19 [==============================] - 7s 352ms/step - loss: 0.0040\n",
            "Epoch 6/50\n",
            "19/19 [==============================] - 5s 273ms/step - loss: 0.0039\n",
            "Epoch 7/50\n",
            "19/19 [==============================] - 5s 288ms/step - loss: 0.0036\n",
            "Epoch 8/50\n",
            "19/19 [==============================] - 6s 312ms/step - loss: 0.0035\n",
            "Epoch 9/50\n",
            "19/19 [==============================] - 5s 277ms/step - loss: 0.0035\n",
            "Epoch 10/50\n",
            "19/19 [==============================] - 7s 355ms/step - loss: 0.0031\n",
            "Epoch 11/50\n",
            "19/19 [==============================] - 6s 311ms/step - loss: 0.0032\n",
            "Epoch 12/50\n",
            "19/19 [==============================] - 6s 339ms/step - loss: 0.0031\n",
            "Epoch 13/50\n",
            "19/19 [==============================] - 7s 366ms/step - loss: 0.0028\n",
            "Epoch 14/50\n",
            "19/19 [==============================] - 6s 342ms/step - loss: 0.0030\n",
            "Epoch 15/50\n",
            "19/19 [==============================] - 8s 423ms/step - loss: 0.0028\n",
            "Epoch 16/50\n",
            "19/19 [==============================] - 10s 485ms/step - loss: 0.0027\n",
            "Epoch 17/50\n",
            "19/19 [==============================] - 6s 342ms/step - loss: 0.0028\n",
            "Epoch 18/50\n",
            "19/19 [==============================] - 5s 273ms/step - loss: 0.0029\n",
            "Epoch 19/50\n",
            "19/19 [==============================] - 6s 342ms/step - loss: 0.0028\n",
            "Epoch 20/50\n",
            "19/19 [==============================] - 5s 276ms/step - loss: 0.0026\n",
            "Epoch 21/50\n",
            "19/19 [==============================] - 6s 309ms/step - loss: 0.0025\n",
            "Epoch 22/50\n",
            "19/19 [==============================] - 6s 301ms/step - loss: 0.0027\n",
            "Epoch 23/50\n",
            "19/19 [==============================] - 5s 274ms/step - loss: 0.0027\n",
            "Epoch 24/50\n",
            "19/19 [==============================] - 6s 345ms/step - loss: 0.0026\n",
            "Epoch 25/50\n",
            "19/19 [==============================] - 5s 279ms/step - loss: 0.0026\n",
            "Epoch 26/50\n",
            "19/19 [==============================] - 6s 342ms/step - loss: 0.0025\n",
            "Epoch 27/50\n",
            "19/19 [==============================] - 5s 273ms/step - loss: 0.0024\n",
            "Epoch 28/50\n",
            "19/19 [==============================] - 6s 340ms/step - loss: 0.0024\n",
            "Epoch 29/50\n",
            "19/19 [==============================] - 5s 272ms/step - loss: 0.0025\n",
            "Epoch 30/50\n",
            "19/19 [==============================] - 9s 483ms/step - loss: 0.0024\n",
            "Epoch 31/50\n",
            "19/19 [==============================] - 5s 277ms/step - loss: 0.0024\n",
            "Epoch 32/50\n",
            "19/19 [==============================] - 7s 375ms/step - loss: 0.0025\n",
            "Epoch 33/50\n",
            "19/19 [==============================] - 5s 273ms/step - loss: 0.0024\n",
            "Epoch 34/50\n",
            "19/19 [==============================] - 6s 332ms/step - loss: 0.0023\n",
            "Epoch 35/50\n",
            "19/19 [==============================] - 5s 266ms/step - loss: 0.0023\n",
            "Epoch 36/50\n",
            "19/19 [==============================] - 6s 296ms/step - loss: 0.0023\n",
            "Epoch 37/50\n",
            "19/19 [==============================] - 6s 297ms/step - loss: 0.0025\n",
            "Epoch 38/50\n",
            "19/19 [==============================] - 5s 274ms/step - loss: 0.0025\n",
            "Epoch 39/50\n",
            "19/19 [==============================] - 6s 344ms/step - loss: 0.0023\n",
            "Epoch 40/50\n",
            "19/19 [==============================] - 5s 281ms/step - loss: 0.0023\n",
            "Epoch 41/50\n",
            "19/19 [==============================] - 6s 342ms/step - loss: 0.0022\n",
            "Epoch 42/50\n",
            "19/19 [==============================] - 5s 275ms/step - loss: 0.0022\n",
            "Epoch 43/50\n",
            "19/19 [==============================] - 6s 341ms/step - loss: 0.0021\n",
            "Epoch 44/50\n",
            "19/19 [==============================] - 5s 280ms/step - loss: 0.0021\n",
            "Epoch 45/50\n",
            "19/19 [==============================] - 6s 336ms/step - loss: 0.0023\n",
            "Epoch 46/50\n",
            "19/19 [==============================] - 6s 284ms/step - loss: 0.0022\n",
            "Epoch 47/50\n",
            "19/19 [==============================] - 5s 289ms/step - loss: 0.0021\n",
            "Epoch 48/50\n",
            "19/19 [==============================] - 6s 308ms/step - loss: 0.0022\n",
            "Epoch 49/50\n",
            "19/19 [==============================] - 5s 271ms/step - loss: 0.0021\n",
            "Epoch 50/50\n",
            "19/19 [==============================] - 6s 344ms/step - loss: 0.0021\n"
          ]
        },
        {
          "output_type": "execute_result",
          "data": {
            "text/plain": [
              "<keras.callbacks.History at 0x7fa8755da370>"
            ]
          },
          "metadata": {},
          "execution_count": 20
        }
      ]
    },
    {
      "metadata": {
        "_kg_hide-input": false,
        "_uuid": "98628386f141545aa77d70f48478ac82bd9c1608",
        "id": "yegBxDqnqorI"
      },
      "cell_type": "markdown",
      "source": [
        "The current version version uses a dense GRU network with 100 units as opposed to the GRU network with 50 units in previous version"
      ]
    },
    {
      "metadata": {
        "trusted": true,
        "collapsed": true,
        "_uuid": "f20ca021ea3ce05f6c6a98db93775f1b2c9c022c",
        "colab": {
          "base_uri": "https://localhost:8080/"
        },
        "id": "XqmPVaapqorI",
        "outputId": "007a31be-a50f-4f18-e495-502479e4ecd5"
      },
      "cell_type": "code",
      "source": [
        "# Preparing X_test and predicting the prices\n",
        "X_test = []\n",
        "for i in range(60,311):\n",
        "    X_test.append(inputs[i-60:i,0])\n",
        "X_test = np.array(X_test)\n",
        "X_test = np.reshape(X_test, (X_test.shape[0],X_test.shape[1],1))\n",
        "GRU_predicted_stock_price = regressorGRU.predict(X_test)\n",
        "GRU_predicted_stock_price = sc.inverse_transform(GRU_predicted_stock_price)"
      ],
      "execution_count": 21,
      "outputs": [
        {
          "output_type": "stream",
          "name": "stdout",
          "text": [
            "8/8 [==============================] - 2s 52ms/step\n"
          ]
        }
      ]
    },
    {
      "metadata": {
        "trusted": true,
        "collapsed": true,
        "_uuid": "da8e9fa28510aa03e7dd06d5070d7b16e05ebb6e",
        "colab": {
          "base_uri": "https://localhost:8080/",
          "height": 325
        },
        "id": "uIkVUYsbqorJ",
        "outputId": "daede037-b43a-46c4-8b3d-bb19f5b1e164"
      },
      "cell_type": "code",
      "source": [
        "# Visualizing the results for GRU\n",
        "plot_predictions(test_set,GRU_predicted_stock_price)"
      ],
      "execution_count": 22,
      "outputs": [
        {
          "output_type": "display_data",
          "data": {
            "text/plain": [
              "<Figure size 432x288 with 1 Axes>"
            ],
            "image/png": "[encoded data removed]"
          },
          "metadata": {}
        }
      ]
    },
    {
      "metadata": {
        "trusted": true,
        "collapsed": true,
        "_uuid": "23aec5ab1a717e3458c8d5cae68db0e7add091ae",
        "colab": {
          "base_uri": "https://localhost:8080/"
        },
        "id": "i3ndKlzfqorJ",
        "outputId": "368c32f2-ecf7-4715-80e1-daf8e92a74d6"
      },
      "cell_type": "code",
      "source": [
        "# Evaluating GRU\n",
        "return_rmse(test_set,GRU_predicted_stock_price)"
      ],
      "execution_count": 23,
      "outputs": [
        {
          "output_type": "stream",
          "name": "stdout",
          "text": [
            "The root mean squared error is 3.2317418115590746.\n"
          ]
        }
      ]
    }
  ],
  "metadata": {
    "kernelspec": {
      "display_name": "Python 3",
      "language": "python",
      "name": "python3"
    },
    "language_info": {
      "name": "python",
      "version": "3.6.6",
      "mimetype": "text/x-python",
      "codemirror_mode": {
        "name": "ipython",
        "version": 3
      },
      "pygments_lexer": "ipython3",
      "nbconvert_exporter": "python",
      "file_extension": ".py"
    },
    "colab": {
      "provenance": [],
      "include_colab_link": true
    }
  },
  "nbformat": 4,
  "nbformat_minor": 0
}